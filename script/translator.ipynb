{
 "cells": [
  {
   "cell_type": "code",
   "execution_count": 2,
   "id": "af8d0821",
   "metadata": {},
   "outputs": [],
   "source": [
    "import re\n",
    "\n",
    "def findOccurrences(s, ch):\n",
    "    return [i for i, letter in enumerate(s) if letter == ch]"
   ]
  },
  {
   "cell_type": "code",
   "execution_count": 3,
   "id": "7bff6673",
   "metadata": {},
   "outputs": [],
   "source": [
    "with open('input.txt') as f:\n",
    "    lines = f.readlines()"
   ]
  },
  {
   "cell_type": "code",
   "execution_count": 4,
   "id": "27aa35fa",
   "metadata": {},
   "outputs": [],
   "source": [
    "f = open(\"output.txt\", \"w\")"
   ]
  },
  {
   "cell_type": "code",
   "execution_count": 7,
   "id": "84f9273a",
   "metadata": {
    "scrolled": false
   },
   "outputs": [],
   "source": [
    "import re\n",
    "\n",
    "def markdown_to_html(input_file, output_file):\n",
    "    with open(input_file, 'r') as md, open(output_file, 'w') as html:\n",
    "        html.write('<table>\\n')  # Start of HTML table\n",
    "        \n",
    "        for line in md:\n",
    "            # Ignore empty lines and lines that do not contain markdown table syntax\n",
    "            if '|' not in line.strip():\n",
    "                continue\n",
    "            \n",
    "            # Split the line into columns based on '|' and strip whitespace\n",
    "            columns = [col.strip() for col in line.split('|') if col.strip()]\n",
    "            \n",
    "            # Start of the table row\n",
    "            html.write('    <tr>\\n')\n",
    "            \n",
    "            # Loop through columns and handle each type of data\n",
    "            for idx, col in enumerate(columns):\n",
    "                if idx == 0:  # First column with link and title\n",
    "                    match = re.search(r'\\[(.*?)\\]\\((.*?)\\)', col)\n",
    "                    if match:\n",
    "                        title = match.group(1)\n",
    "                        link = match.group(2)\n",
    "                        html.write(f'        <td><a href=\"{link}\">{title}</a></td>\\n')\n",
    "                    else:\n",
    "                        html.write('        <td class=\\'code\\'>-</td>\\n')\n",
    "                elif idx == 6:  # Last column might have a code link\n",
    "                    code_match = re.search(r'\\[(.*?)\\]\\((.*?)\\)', col)\n",
    "                    if code_match:\n",
    "                        code_link = code_match.group(2)\n",
    "                        html.write(f'        <td><a href=\"{code_link}\">[Code]</a></td>\\n')\n",
    "                    else:\n",
    "                        html.write('        <td class=\\'code\\'>-</td>\\n')\n",
    "                else:  # Other columns\n",
    "                    col = col.replace('_', '').strip()  # Remove markdown italic markers\n",
    "                    if col == '-':  # If column is explicitly empty, maintain the placeholder\n",
    "                        html.write('        <td class=\\'code\\'>-</td>\\n')\n",
    "                    elif not col:  # If column is empty, output a placeholder with 'code' class\n",
    "                        html.write('        <td class=\\'code\\'>-</td>\\n')\n",
    "                    else:\n",
    "                        html.write(f'        <td>{col}</td>\\n')\n",
    "            \n",
    "            # End of the table row\n",
    "            html.write('    </tr>\\n')\n",
    "        \n",
    "        html.write('</table>')  # End of HTML table\n",
    "\n",
    "# Usage\n",
    "markdown_to_html('input.txt', 'output.txt')\n"
   ]
  },
  {
   "cell_type": "code",
   "execution_count": null,
   "id": "46abe031",
   "metadata": {},
   "outputs": [],
   "source": []
  }
 ],
 "metadata": {
  "kernelspec": {
   "display_name": "Python 3",
   "language": "python",
   "name": "python3"
  },
  "language_info": {
   "codemirror_mode": {
    "name": "ipython",
    "version": 3
   },
   "file_extension": ".py",
   "mimetype": "text/x-python",
   "name": "python",
   "nbconvert_exporter": "python",
   "pygments_lexer": "ipython3",
   "version": "3.7.10"
  }
 },
 "nbformat": 4,
 "nbformat_minor": 5
}
